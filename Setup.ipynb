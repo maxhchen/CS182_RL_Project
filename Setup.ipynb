{
  "nbformat": 4,
  "nbformat_minor": 0,
  "metadata": {
    "colab": {
      "name": "Setup.ipynb",
      "provenance": [],
      "collapsed_sections": [],
      "toc_visible": true,
      "authorship_tag": "ABX9TyP3YTsN14DRGeauGWXIeMzi",
      "include_colab_link": true
    },
    "kernelspec": {
      "name": "python3",
      "display_name": "Python 3"
    }
  },
  "cells": [
    {
      "cell_type": "markdown",
      "metadata": {
        "id": "view-in-github",
        "colab_type": "text"
      },
      "source": [
        "<a href=\"https://colab.research.google.com/github/maxhchen/CS182_RL_Project/blob/main/Setup.ipynb\" target=\"_parent\"><img src=\"https://colab.research.google.com/assets/colab-badge.svg\" alt=\"Open In Colab\"/></a>"
      ]
    },
    {
      "cell_type": "markdown",
      "metadata": {
        "id": "3nYHMWN30ilA"
      },
      "source": [
        "# Reinforcement Learning Final Project\r\n",
        "---\r\n",
        "#### CS W182/282A Designing, Visualizing and Understanding Deep Neural Networks\r\n",
        "#### Spring 2021 UC Berkeley\r\n",
        "#### Maxwell Chen, Jason Lin, Abinav Routhu"
      ]
    },
    {
      "cell_type": "markdown",
      "metadata": {
        "id": "Fqyr_G_t0jct"
      },
      "source": [
        "## Setup"
      ]
    },
    {
      "cell_type": "code",
      "metadata": {
        "id": "2UAsO7C10aBZ"
      },
      "source": [
        "# from google.colab import drive\r\n",
        "# from os.path import join\r\n",
        "\r\n",
        "# ROOT = '/content/drive'     # default for the drive\r\n",
        "# PROJ = 'My Drive/...'       # path to your project on Drive\r\n",
        "\r\n",
        "# drive.mount(ROOT)           # we mount the drive at /content/drive\r\n",
        "\r\n",
        "# PROJECT_PATH = join(ROOT, PROJ)\r\n",
        "\r\n",
        "# # GIT_PATH = \"https://{GIT_TOKEN}@github.com/{GIT_USERNAME}/{GIT_REPOSITORY}.git\"\r\n",
        "# GIT_PATH = \"https://cbef7492375101e77515c016cb472544413d271f@github.com/maxhchen/CS182_RL_Project.git\"\r\n",
        "# !mkdir ./temp\r\n",
        "# !git clone \"{GIT_PATH}\"\r\n",
        "# !mv ./temp/* \"{PROJECT_PATH}\"\r\n",
        "# !rm -rf ./temp\r\n",
        "# !rsync -aP --exclude=data/ \"{PROJECT_PATH}\"/*  ./"
      ],
      "execution_count": null,
      "outputs": []
    },
    {
      "cell_type": "code",
      "metadata": {
        "id": "u-hkr5t42-JC"
      },
      "source": [
        "# # install required system dependencies\r\n",
        "# !apt-get install -y xvfb x11-utils\r\n",
        "\r\n",
        "# # install required python dependencies\r\n",
        "# !pip install gym[box2d]==0.17.* \\\r\n",
        "#             pyvirtualdisplay==0.2.* \\\r\n",
        "#             PyOpenGL==3.1.* \\\r\n",
        "#             PyOpenGL-accelerate==3.1.*\r\n",
        "\r\n",
        "# !apt-get install build-essential python-dev swig python-pygame\r\n",
        "# !pip install box2d-py"
      ],
      "execution_count": null,
      "outputs": []
    },
    {
      "cell_type": "code",
      "metadata": {
        "colab": {
          "base_uri": "https://localhost:8080/"
        },
        "id": "Ju3n_rXGJB2q",
        "outputId": "c0b9dba9-353a-4b59-c646-a53ee590d29b"
      },
      "source": [
        "!pip install procgen"
      ],
      "execution_count": null,
      "outputs": [
        {
          "output_type": "stream",
          "text": [
            "Requirement already satisfied: procgen in /usr/local/lib/python3.7/dist-packages (0.10.4)\n",
            "Requirement already satisfied: filelock<4.0.0,>=3.0.0 in /usr/local/lib/python3.7/dist-packages (from procgen) (3.0.12)\n",
            "Requirement already satisfied: numpy<2.0.0,>=1.17.0 in /usr/local/lib/python3.7/dist-packages (from procgen) (1.19.5)\n",
            "Requirement already satisfied: gym3<1.0.0,>=0.3.3 in /usr/local/lib/python3.7/dist-packages (from procgen) (0.3.3)\n",
            "Requirement already satisfied: gym<1.0.0,>=0.15.0 in /usr/local/lib/python3.7/dist-packages (from procgen) (0.17.3)\n",
            "Requirement already satisfied: imageio-ffmpeg<0.4.0,>=0.3.0 in /usr/local/lib/python3.7/dist-packages (from gym3<1.0.0,>=0.3.3->procgen) (0.3.0)\n",
            "Requirement already satisfied: cffi<2.0.0,>=1.13.0 in /usr/local/lib/python3.7/dist-packages (from gym3<1.0.0,>=0.3.3->procgen) (1.14.5)\n",
            "Requirement already satisfied: imageio<3.0.0,>=2.6.0 in /usr/local/lib/python3.7/dist-packages (from gym3<1.0.0,>=0.3.3->procgen) (2.9.0)\n",
            "Requirement already satisfied: moderngl<6.0.0,>=5.5.4 in /usr/local/lib/python3.7/dist-packages (from gym3<1.0.0,>=0.3.3->procgen) (5.6.4)\n",
            "Requirement already satisfied: glfw<2.0.0,>=1.8.6 in /usr/local/lib/python3.7/dist-packages (from gym3<1.0.0,>=0.3.3->procgen) (1.12.0)\n",
            "Requirement already satisfied: pyglet<=1.5.0,>=1.4.0 in /usr/local/lib/python3.7/dist-packages (from gym<1.0.0,>=0.15.0->procgen) (1.5.0)\n",
            "Requirement already satisfied: scipy in /usr/local/lib/python3.7/dist-packages (from gym<1.0.0,>=0.15.0->procgen) (1.4.1)\n",
            "Requirement already satisfied: cloudpickle<1.7.0,>=1.2.0 in /usr/local/lib/python3.7/dist-packages (from gym<1.0.0,>=0.15.0->procgen) (1.3.0)\n",
            "Requirement already satisfied: pycparser in /usr/local/lib/python3.7/dist-packages (from cffi<2.0.0,>=1.13.0->gym3<1.0.0,>=0.3.3->procgen) (2.20)\n",
            "Requirement already satisfied: pillow in /usr/local/lib/python3.7/dist-packages (from imageio<3.0.0,>=2.6.0->gym3<1.0.0,>=0.3.3->procgen) (7.0.0)\n",
            "Requirement already satisfied: glcontext<3,>=2 in /usr/local/lib/python3.7/dist-packages (from moderngl<6.0.0,>=5.5.4->gym3<1.0.0,>=0.3.3->procgen) (2.3.2)\n",
            "Requirement already satisfied: future in /usr/local/lib/python3.7/dist-packages (from pyglet<=1.5.0,>=1.4.0->gym<1.0.0,>=0.15.0->procgen) (0.16.0)\n"
          ],
          "name": "stdout"
        }
      ]
    },
    {
      "cell_type": "code",
      "metadata": {
        "colab": {
          "base_uri": "https://localhost:8080/"
        },
        "id": "SyhVGAar3Dil",
        "outputId": "e8706045-b219-441f-8e44-05f8024011c0"
      },
      "source": [
        "import pyvirtualdisplay\r\n",
        "\r\n",
        "_display = pyvirtualdisplay.Display(visible=False,  # use False with Xvfb\r\n",
        "                                    size=(1400, 900))\r\n",
        "_ = _display.start()\r\n",
        "\r\n",
        "# !echo $DISPLAY"
      ],
      "execution_count": null,
      "outputs": [
        {
          "output_type": "stream",
          "text": [
            ":1003\n"
          ],
          "name": "stdout"
        }
      ]
    },
    {
      "cell_type": "code",
      "metadata": {
        "colab": {
          "base_uri": "https://localhost:8080/"
        },
        "id": "Fm9chWjMLDem",
        "outputId": "eee0a403-3d58-40af-8077-b7c75b38c80b"
      },
      "source": [
        "!python -m procgen.interactive --env-name fruitbot"
      ],
      "execution_count": null,
      "outputs": [
        {
          "output_type": "stream",
          "text": [
            "first=0 steps=15 episode_steps=15 episode_return_delta=0.0 episode_return=0.0\n",
            "first=1 steps=22 episode_steps=22 episode_return_delta=0.0 episode_return=0.0\n",
            "final info={'episode_steps': 22, 'episode_return': 0.0, 'prev_level_seed': 465264758, 'prev_level_complete': 0, 'level_seed': 1249450446}\n",
            "first=0 steps=30 episode_steps=8 episode_return_delta=0.0 episode_return=0.0\n",
            "first=0 steps=45 episode_steps=23 episode_return_delta=0.0 episode_return=0.0\n",
            "first=1 steps=59 episode_steps=37 episode_return_delta=0.0 episode_return=0.0\n",
            "final info={'episode_steps': 37, 'episode_return': 0.0, 'prev_level_seed': 1249450446, 'prev_level_complete': 0, 'level_seed': 370145479}\n",
            "Traceback (most recent call last):\n",
            "  File \"/usr/lib/python3.7/runpy.py\", line 193, in _run_module_as_main\n",
            "  File \"/usr/lib/python3.7/runpy.py\", line 85, in _run_code\n",
            "    exec(code, run_globals)\n",
            "  File \"/usr/local/lib/python3.7/dist-packages/procgen/interactive.py\", line 82, in <module>\n",
            "    main()\n",
            "  File \"/usr/local/lib/python3.7/dist-packages/procgen/interactive.py\", line 78, in main\n",
            "    ia.run()\n",
            "  File \"/usr/local/lib/python3.7/dist-packages/gym3/interactive.py\", line 100, in run\n",
            "    time.sleep(sleep_time)\n",
            "KeyboardInterrupt\n"
          ],
          "name": "stdout"
        }
      ]
    }
  ]
}